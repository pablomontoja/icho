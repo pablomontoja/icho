{
 "cells": [
  {
   "cell_type": "code",
   "execution_count": 5,
   "metadata": {},
   "outputs": [
    {
     "data": {
      "text/html": [
       "<script>\n",
       "code_show=true; \n",
       "function code_toggle() {\n",
       " if (code_show){\n",
       " $('div.input').hide();\n",
       " } else {\n",
       " $('div.input').show();\n",
       " }\n",
       " code_show = !code_show\n",
       "}\n",
       "$( document ).ready(code_toggle);\n",
       "</script>\n",
       "<form action=\"javascript:code_toggle()\"><input type=\"submit\" value=\"Click here to toggle on/off the raw code.\"></form>"
      ],
      "text/plain": [
       "<IPython.core.display.HTML object>"
      ]
     },
     "execution_count": 5,
     "metadata": {},
     "output_type": "execute_result"
    }
   ],
   "source": [
    "from IPython.display import HTML\n",
    "\n",
    "HTML('''<script>\n",
    "code_show=true; \n",
    "function code_toggle() {\n",
    " if (code_show){\n",
    " $('div.input').hide();\n",
    " } else {\n",
    " $('div.input').show();\n",
    " }\n",
    " code_show = !code_show\n",
    "}\n",
    "$( document ).ready(code_toggle);\n",
    "</script>\n",
    "<form action=\"javascript:code_toggle()\"><input type=\"submit\" value=\"Click here to toggle on/off the raw code.\"></form>''')"
   ]
  },
  {
   "cell_type": "code",
   "execution_count": 6,
   "metadata": {},
   "outputs": [
    {
     "name": "stdout",
     "output_type": "stream",
     "text": [
      "2016.09.4\n",
      "Wed Sep 20 09:35:11 2017\n"
     ]
    }
   ],
   "source": [
    "import glob\n",
    "import py3Dmol\n",
    "\n",
    "from rdkit import Chem\n",
    "from rdkit.Chem import AllChem\n",
    "from rdkit.Chem import Draw\n",
    "from rdkit.Chem import rdMolAlign\n",
    "from rdkit.Chem.Draw import IPythonConsole\n",
    "from rdkit import rdBase\n",
    "print(rdBase.rdkitVersion)\n",
    "import os,time\n",
    "print( time.asctime())"
   ]
  },
  {
   "cell_type": "markdown",
   "metadata": {},
   "source": [
    "# sacharoza + R-PEA "
   ]
  },
  {
   "cell_type": "markdown",
   "metadata": {},
   "source": [
    "<table>\n",
    "    <tr>\n",
    "        <td><b>Nazwa pliku</b></td>\n",
    "        <td><b>Energia</b></td>\n",
    "        <td><b>Populacja</b></td>\n",
    "        <td><b>deltaE (kJ/mol)</b></td>\n",
    "    </tr>\n",
    "    <tr>\n",
    "        <td>sacharoza_RPEA_25_wB97XD_631gd_INVERSION_OPT.log</td>\n",
    "        <td>-1664.10774679</td>\n",
    "        <td>96.19%</td>\n",
    "        <td>0.0</td>\n",
    "    </tr> \n",
    "    <tr>\n",
    "        <td>sacharoza_RPEA_4_wB97XD_631gd_OPT.log</td>\n",
    "        <td>-1664.10458579</td>\n",
    "        <td>3.38%</td>\n",
    "        <td>8.30</td>\n",
    "    </tr> \n",
    "    <tr>\n",
    "        <td>sacharoza_RPEA_43_wB97XD_631gd_OPT.log</td>\n",
    "        <td>-1664.10210999</td>\n",
    "        <td>0.25%</td>\n",
    "        <td>14.80</td>\n",
    "    </tr> \n",
    "</table>"
   ]
  },
  {
   "cell_type": "markdown",
   "metadata": {},
   "source": [
    "### sacharoza_RPEA_25_wB97XD_631gd_INVERSION_OPT.log (96.19%) NAJTRWALSZY"
   ]
  },
  {
   "cell_type": "code",
   "execution_count": 7,
   "metadata": {
    "scrolled": false
   },
   "outputs": [
    {
     "data": {
      "text/html": [
       "<div id=\"3dmolviewer_15058929113229954\"  style=\"position: relative; width: 800px; height: 800px\">\n",
       "<script>\n",
       "if(typeof $3Dmolpromise === 'undefined') $3Dmolpromise = $.when($.getScript('http://3dmol.csb.pitt.edu/build/3Dmol.js'))\n",
       "var viewer_15058929113229954 = null;\n",
       "$3Dmolpromise.done(function() {\n",
       "viewer_15058929113229954 = $3Dmol.createViewer($(\"#3dmolviewer_15058929113229954\"),{backgroundColor:\"white\"});\n",
       "\tviewer_15058929113229954.removeAllModels();\n",
       "\tviewer_15058929113229954.addModel(\"66\\nsacharoza\\n C                 -2.77724400    0.21163000   -1.01530800\\n C                 -3.24539900   -1.11026900   -0.36974000\\n C                 -2.78252300   -1.32187200    1.07247100\\n C                 -2.66865200   -0.03229500    1.86571900\\n C                 -1.96678800    1.03875000    1.03772400\\n O                 -2.76054900    1.30913100   -0.10309700\\n O                 -0.72624400    0.57485000    0.60022200\\n C                  0.48908600    1.21412000    0.97211100\\n O                  0.31059300    2.56722200    1.25358200\\n C                  1.45708900    1.12443600   -0.25642500\\n C                  2.03133300    2.54623600   -0.32844800\\n C                  0.90815400    3.40445000    0.25318100\\n C                  1.01497900    0.51179400    2.23280100\\n O                  0.72040200   -0.87800600    2.20548100\\n O                  0.84378300    0.71945500   -1.45841000\\n O                  3.13404100    2.68395300    0.53890000\\n C                 -0.13646100    3.90210800   -0.74251900\\n O                 -1.91131400   -0.25405500    3.04391900\\n O                 -3.64222800   -2.16756300    1.80081600\\n O                 -2.71858400   -2.20746700   -1.11078300\\n C                 -3.67818400    0.61029600   -2.17335200\\n O                 -0.78715000    2.85643400   -1.45776000\\n O                 -3.68380800   -0.50416500   -3.05252700\\n H                 -1.76659300    0.05343400   -1.40495200\\n H                 -4.34337800   -1.14249000   -0.36845000\\n H                 -1.77550700   -1.75567100    1.03963600\\n H                 -3.66955300    0.33867400    2.11683400\\n H                 -1.87242500    1.97618100    1.58688500\\n H                  2.25393800    0.40556700   -0.06262800\\n H                  2.27910600    2.81162400   -1.36439600\\n H                  1.33664000    4.26577200    0.77284400\\n H                  0.55534700    0.98420600    3.10656900\\n H                  2.09798100    0.64079000    2.29649200\\n H                 -0.17661900   -0.93908300    2.58644800\\n H                  0.17657800    1.40999500   -1.68092400\\n H                  3.84269600    2.11087800    0.21722800\\n H                 -0.87733100    4.50512300   -0.20681700\\n H                  0.34971400    4.54539900   -1.48183300\\n H                 -2.41785900   -0.86489800    3.59775700\\n H                 -3.64822500   -3.03662300    1.37937200\\n H                 -3.05531000   -2.10013100   -2.01801400\\n H                 -4.68496300    0.83243500   -1.79513100\\n H                 -3.27770100    1.50762800   -2.66178300\\n H                 -1.55887800    2.54805900   -0.95013300\\n H                 -4.31316300   -0.34733600   -3.76537900\\n C                  3.25964800   -1.96801800    0.56927600\\n C                  4.42142000   -1.22331400    0.74991900\\n C                  5.03234800   -0.60218000   -0.33858400\\n C                  4.47822400   -0.73095500   -1.61020700\\n C                  3.31607800   -1.47550000   -1.78934100\\n C                  2.69601500   -2.09666300   -0.70364900\\n C                  1.37053400   -2.80267200   -0.91497000\\n C                  1.16018400   -4.07930200   -0.11237200\\n N                  0.28012800   -1.82375900   -0.57051100\\n H                  2.78567500   -2.42267700    1.43261900\\n H                  4.85379800   -1.13336400    1.74136700\\n H                  5.95017200   -0.03862600   -0.19823400\\n H                  4.95405800   -0.26083100   -2.46488100\\n H                  2.88216000   -1.56288900   -2.78182800\\n H                  1.24621800   -3.01443900   -1.98063100\\n H                  1.95464100   -4.79337600   -0.34024800\\n H                  1.17491600   -3.88487700    0.96453700\\n H                  0.20119100   -4.54272300   -0.36501200\\n H                  0.34287500   -1.55813100    0.43454100\\n H                 -0.67134300   -2.17347700   -0.77511900\\n H                  0.39968400   -0.92080500   -1.08562100\\n\",\"xyz\");\n",
       "\tviewer_15058929113229954.setStyle({\"stick\": {\"radius\": 0.1, \"color\": \"spectrum\"}});\n",
       "\tviewer_15058929113229954.setBackgroundColor(\"0x000000\");\n",
       "\tviewer_15058929113229954.zoomTo();\n",
       "viewer_15058929113229954.render();\n",
       "});\n",
       "</script>"
      ],
      "text/plain": [
       "<IPython.core.display.HTML object>"
      ]
     },
     "execution_count": 7,
     "metadata": {},
     "output_type": "execute_result"
    }
   ],
   "source": [
    "cm1 = open('structures/sacharoza_RPEA_25_wB97XD_631gd_INVERSION_OPT.xyz','r').read()\n",
    "vcm1 = py3Dmol.view(width=800,height=800)\n",
    "vcm1.removeAllModels()\n",
    "vcm1.addModel(cm1,'xyz')\n",
    "vcm1.setStyle({'stick':{'radius':0.10,'color':'spectrum'}})\n",
    "vcm1.setBackgroundColor('0x000000')\n",
    "vcm1.zoomTo()\n",
    "vcm1.show()"
   ]
  },
  {
   "cell_type": "markdown",
   "metadata": {},
   "source": [
    "# sacharoza + S-PEA "
   ]
  },
  {
   "cell_type": "markdown",
   "metadata": {},
   "source": [
    "<table>\n",
    "    <tr>\n",
    "        <td><b>Nazwa pliku</b></td>\n",
    "        <td><b>Energia</b></td>\n",
    "        <td><b>Populacja</b></td>\n",
    "        <td><b>deltaE (kJ/mol)</b></td>\n",
    "    </tr>\n",
    "    <tr>\n",
    "        <td>sacharoza_SPEA_25_wB97XD_631gd_OPT.log</td>\n",
    "        <td>-1664.10693438</td>\n",
    "        <td>96.58%</td>\n",
    "        <td>0.0</td>\n",
    "    </tr> \n",
    "    <tr>\n",
    "        <td>sacharoza_SPEA_4_wB97XD_631gd_INVERSION_OPT.log</td>\n",
    "        <td>-1664.1035282</td>\n",
    "        <td>2.62%</td>\n",
    "        <td>8.94</td>\n",
    "    </tr>\n",
    "    <tr>\n",
    "        <td>sacharoza_SPEA_9_wB97XD_631gd_OPT.log</td>\n",
    "        <td>-1664.10203537</td>\n",
    "        <td>0.54%</td>\n",
    "        <td>12.86</td>\n",
    "    </tr>\n",
    "</table>"
   ]
  },
  {
   "cell_type": "markdown",
   "metadata": {},
   "source": [
    "### sacharoza_SPEA_25_wB97XD_631gd_OPT.log (96.58%) NAJTRWALSZY"
   ]
  },
  {
   "cell_type": "code",
   "execution_count": 8,
   "metadata": {},
   "outputs": [
    {
     "data": {
      "text/html": [
       "<div id=\"3dmolviewer_15058929113396611\"  style=\"position: relative; width: 800px; height: 800px\">\n",
       "<script>\n",
       "if(typeof $3Dmolpromise === 'undefined') $3Dmolpromise = $.when($.getScript('http://3dmol.csb.pitt.edu/build/3Dmol.js'))\n",
       "var viewer_15058929113396611 = null;\n",
       "$3Dmolpromise.done(function() {\n",
       "viewer_15058929113396611 = $3Dmol.createViewer($(\"#3dmolviewer_15058929113396611\"),{backgroundColor:\"white\"});\n",
       "\tviewer_15058929113396611.removeAllModels();\n",
       "\tviewer_15058929113396611.addModel(\"66\\nsacharoza_SPEA_25_wB97XD_631gd_OPT.gjf\\n C                 -2.76539800    0.01893400   -0.98988500\\n C                 -3.25154100   -1.14413800   -0.09885800\\n C                 -2.80533200   -1.06790100    1.36180600\\n C                 -2.68644500    0.35263900    1.88454700\\n C                 -1.96558900    1.23071000    0.86699600\\n O                 -2.74420900    1.27577500   -0.31440000\\n O                 -0.72579400    0.67795200    0.54565900\\n C                  0.49175100    1.36758800    0.80131600\\n O                  0.32609100    2.75148000    0.79992300\\n C                  1.47703400    1.02066200   -0.36481100\\n C                  2.07549500    2.39222500   -0.70768900\\n C                  0.95298900    3.36197200   -0.33713800\\n C                  0.99551300    0.92781800    2.18363200\\n O                  0.69658000   -0.43939200    2.42480600\\n O                  0.87695300    0.39183500   -1.47419100\\n O                  3.16215400    2.68941900    0.13939100\\n C                 -0.06863700    3.65541800   -1.43345300\\n O                 -1.94231800    0.36303600    3.09137300\\n O                 -3.67982500   -1.74693300    2.23267900\\n O                 -2.72900800   -2.37115500   -0.60106500\\n C                 -3.65374100    0.18526400   -2.21234800\\n O                 -0.72975900    2.49431100   -1.92630700\\n O                 -3.65956700   -1.08170800   -2.85310500\\n H                 -1.75364800   -0.22228400   -1.33093500\\n H                 -4.34975900   -1.16708800   -0.10370100\\n H                 -1.80113200   -1.50488700    1.42808500\\n H                 -3.68555200    0.77503300    2.04578900\\n H                 -1.86508300    2.25781200    1.21976600\\n H                  2.25651200    0.34334900   -0.01388800\\n H                  2.34856100    2.44222100   -1.76980400\\n H                  1.38305100    4.30699700    0.00589100\\n H                  0.52575200    1.56413900    2.94025300\\n H                  2.07809600    1.06575600    2.23567300\\n H                 -0.20553000   -0.42301000    2.79719100\\n H                  0.22116300    1.03097100   -1.83970800\\n H                  3.86458600    2.04974800   -0.03817100\\n H                 -0.80572200    4.36850700   -1.04903700\\n H                  0.43870600    4.12172500   -2.28307400\\n H                 -2.45937600   -0.12278500    3.74947200\\n H                 -3.68901600   -2.68208800    1.99140200\\n H                 -3.05586400   -2.44226300   -1.51544400\\n H                 -4.66234600    0.48325000   -1.89614000\\n H                 -3.24375000    0.96509700   -2.86660000\\n H                 -1.50700900    2.30349500   -1.37117400\\n H                 -4.28426000   -1.06691700   -3.58685800\\n C                  3.18090900   -1.97980400    1.05449800\\n C                  4.33912400   -1.22907800    1.22505700\\n C                  5.01394100   -0.72888000    0.11229400\\n C                  4.52535400   -0.98546700   -1.16676600\\n C                  3.36194600   -1.73245300   -1.33551000\\n C                  2.67807200   -2.23143300   -0.22594900\\n C                  1.34533600   -2.94626300   -0.35910200\\n C                  1.07510100   -3.62890200   -1.69220800\\n N                  0.26847400   -1.92038000   -0.12008300\\n H                  2.65330400   -2.35287700    1.92795400\\n H                  4.72080700   -1.04541700    2.22415700\\n H                  5.93092100   -0.16155000    0.24231100\\n H                  5.05315400   -0.61119900   -2.03831600\\n H                  2.99038000   -1.90867600   -2.33906700\\n H                  1.24713000   -3.67467100    0.45117700\\n H                  0.12672000   -4.17389600   -1.65884700\\n H                  1.02327200   -2.90526200   -2.51160400\\n H                  1.87068900   -4.34392900   -1.91348500\\n H                  0.36037000   -1.48574800    0.82143200\\n H                 -0.68930800   -2.29050100   -0.24363500\\n H                  0.37919800   -1.12084200   -0.78717200\\n\\n\",\"xyz\");\n",
       "\tviewer_15058929113396611.setStyle({\"stick\": {\"radius\": 0.1, \"color\": \"spectrum\"}});\n",
       "\tviewer_15058929113396611.setBackgroundColor(\"0x000000\");\n",
       "\tviewer_15058929113396611.zoomTo();\n",
       "viewer_15058929113396611.render();\n",
       "});\n",
       "</script>"
      ],
      "text/plain": [
       "<IPython.core.display.HTML object>"
      ]
     },
     "execution_count": 8,
     "metadata": {},
     "output_type": "execute_result"
    }
   ],
   "source": [
    "cm1 = open('structures/sacharoza_SPEA_25_wB97XD_631gd_OPT.xyz','r').read()\n",
    "vcm1 = py3Dmol.view(width=800,height=800)\n",
    "vcm1.removeAllModels()\n",
    "vcm1.addModel(cm1,'xyz')\n",
    "vcm1.setStyle({'stick':{'radius':0.10,'color':'spectrum'}})\n",
    "vcm1.setBackgroundColor('0x000000')\n",
    "vcm1.zoomTo()\n",
    "vcm1.show()"
   ]
  }
 ],
 "metadata": {
  "kernelspec": {
   "display_name": "Python 3",
   "language": "python",
   "name": "python3"
  },
  "language_info": {
   "codemirror_mode": {
    "name": "ipython",
    "version": 3
   },
   "file_extension": ".py",
   "mimetype": "text/x-python",
   "name": "python",
   "nbconvert_exporter": "python",
   "pygments_lexer": "ipython3",
   "version": "3.5.3"
  }
 },
 "nbformat": 4,
 "nbformat_minor": 2
}
